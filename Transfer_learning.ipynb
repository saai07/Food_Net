{
  "nbformat": 4,
  "nbformat_minor": 0,
  "metadata": {
    "colab": {
      "provenance": [],
      "gpuType": "T4",
      "authorship_tag": "ABX9TyMDe7RZB7nhNCjIVpSZ4SHd",
      "include_colab_link": true
    },
    "kernelspec": {
      "name": "python3",
      "display_name": "Python 3"
    },
    "language_info": {
      "name": "python"
    },
    "accelerator": "GPU"
  },
  "cells": [
    {
      "cell_type": "markdown",
      "metadata": {
        "id": "view-in-github",
        "colab_type": "text"
      },
      "source": [
        "<a href=\"https://colab.research.google.com/github/saai07/Food_Net/blob/main/Transfer_learning.ipynb\" target=\"_parent\"><img src=\"https://colab.research.google.com/assets/colab-badge.svg\" alt=\"Open In Colab\"/></a>"
      ]
    },
    {
      "cell_type": "code",
      "execution_count": null,
      "metadata": {
        "id": "1OHW65VsgW2b"
      },
      "outputs": [],
      "source": []
    },
    {
      "cell_type": "code",
      "source": [
        "\n",
        "import matplotlib.pyplot as plt\n",
        "import torch\n",
        "import torchvision\n",
        "\n",
        "from torch import nn\n",
        "from torchvision import transforms\n",
        "\n",
        "# Try to get torchinfo, install it if it doesn't work\n",
        "try:\n",
        "    from torchinfo import summary\n",
        "except:\n",
        "    print(\"[INFO] Couldn't find torchinfo... installing it.\")\n",
        "    !pip install -q torchinfo\n",
        "    from torchinfo import summary\n",
        "\n",
        "# Try to import the going_modular directory, download it from GitHub if it doesn't work\n",
        "try:\n",
        "    from going_modular.going_modular import data_setup, engine\n",
        "except:\n",
        "    # Get the going_modular scripts\n",
        "    print(\"[INFO] Couldn't find going_modular scripts... downloading them from GitHub.\")\n",
        "    !git clone https://github.com/mrdbourke/pytorch-deep-learning\n",
        "    !mv pytorch-deep-learning/going_modular .\n",
        "    !rm -rf pytorch-deep-learning\n",
        "    from going_modular.going_modular import data_setup, engine"
      ],
      "metadata": {
        "id": "0_yjPEgmolPs",
        "colab": {
          "base_uri": "https://localhost:8080/"
        },
        "outputId": "127a155b-f871-49d6-ca77-09dc3d125cfa"
      },
      "execution_count": null,
      "outputs": [
        {
          "output_type": "stream",
          "name": "stdout",
          "text": [
            "[INFO] Couldn't find torchinfo... installing it.\n",
            "[INFO] Couldn't find going_modular scripts... downloading them from GitHub.\n",
            "Cloning into 'pytorch-deep-learning'...\n",
            "remote: Enumerating objects: 4393, done.\u001b[K\n",
            "remote: Total 4393 (delta 0), reused 0 (delta 0), pack-reused 4393 (from 1)\u001b[K\n",
            "Receiving objects: 100% (4393/4393), 764.14 MiB | 36.22 MiB/s, done.\n",
            "Resolving deltas: 100% (2656/2656), done.\n",
            "Updating files: 100% (248/248), done.\n"
          ]
        }
      ]
    },
    {
      "cell_type": "markdown",
      "source": [
        "Get Data"
      ],
      "metadata": {
        "id": "YhJ3TNfEyrUK"
      }
    },
    {
      "cell_type": "code",
      "source": [
        "import os\n",
        "import zipfile\n",
        "\n",
        "from pathlib import Path\n",
        "\n",
        "import requests\n",
        "\n",
        "# Setup path to data folder\n",
        "data_path = Path(\"data/\")\n",
        "image_path = data_path / \"pizza_steak_sushi\"\n",
        "\n",
        "# If the image folder doesn't exist, download it and prepare it...\n",
        "if image_path.is_dir():\n",
        "    print(f\"{image_path} directory exists.\")\n",
        "else:\n",
        "    print(f\"Did not find {image_path} directory, creating one...\")\n",
        "    image_path.mkdir(parents=True, exist_ok=True)\n",
        "\n",
        "    # Download pizza, steak, sushi data\n",
        "    with open(data_path / \"pizza_steak_sushi.zip\", \"wb\") as f:\n",
        "        request = requests.get(\"https://github.com/mrdbourke/pytorch-deep-learning/raw/main/data/pizza_steak_sushi.zip\")\n",
        "        print(\"Downloading pizza, steak, sushi data...\")\n",
        "        f.write(request.content)\n",
        "\n",
        "    # Unzip pizza, steak, sushi data\n",
        "    with zipfile.ZipFile(data_path / \"pizza_steak_sushi.zip\", \"r\") as zip_ref:\n",
        "        print(\"Unzipping pizza, steak, sushi data...\")\n",
        "        zip_ref.extractall(image_path)\n",
        "\n",
        "    # Remove .zip file\n",
        "    os.remove(data_path / \"pizza_steak_sushi.zip\")"
      ],
      "metadata": {
        "colab": {
          "base_uri": "https://localhost:8080/"
        },
        "id": "GGCCgXbpytvZ",
        "outputId": "f2851eaa-092c-4b7d-ed45-92e723c1be08"
      },
      "execution_count": null,
      "outputs": [
        {
          "output_type": "stream",
          "name": "stdout",
          "text": [
            "Did not find data/pizza_steak_sushi directory, creating one...\n",
            "Downloading pizza, steak, sushi data...\n",
            "Unzipping pizza, steak, sushi data...\n"
          ]
        }
      ]
    },
    {
      "cell_type": "code",
      "source": [
        "#setup directiry path\n",
        "\n",
        "train_dir = image_path / \"train\"\n",
        "test_dir = image_path / \"test\"\n",
        "\n",
        "train_dir , test_dir"
      ],
      "metadata": {
        "colab": {
          "base_uri": "https://localhost:8080/"
        },
        "id": "aJWN0CDQMyln",
        "outputId": "d1a0ead5-e5b2-4199-8a22-0a13bad7facc"
      },
      "execution_count": null,
      "outputs": [
        {
          "output_type": "execute_result",
          "data": {
            "text/plain": [
              "(PosixPath('data/pizza_steak_sushi/train'),\n",
              " PosixPath('data/pizza_steak_sushi/test'))"
            ]
          },
          "metadata": {},
          "execution_count": 3
        }
      ]
    },
    {
      "cell_type": "code",
      "source": [
        "#creating datasets and Dataloader\n",
        "from going_modular.going_modular import data_setup\n"
      ],
      "metadata": {
        "id": "htgXpglRNup3"
      },
      "execution_count": null,
      "outputs": []
    },
    {
      "cell_type": "markdown",
      "source": [],
      "metadata": {
        "id": "aacBFoA9yqfT"
      }
    },
    {
      "cell_type": "code",
      "source": [],
      "metadata": {
        "id": "WRXltuAsdZlr"
      },
      "execution_count": null,
      "outputs": []
    },
    {
      "cell_type": "code",
      "source": [
        "#manual way\n",
        "from going_modular.going_modular import data_setup\n",
        "train_dataloader , test_dataloader , class_names = data_setup.create_dataloaders(train_dir=train_dir,\n",
        "                                                                                test_dir = test_dir,\n",
        "                                                                                transform = manual_transform,\n",
        "                                                                                batch_size = 32)\n",
        "train_dataloader , test_dataloader , class_names"
      ],
      "metadata": {
        "colab": {
          "base_uri": "https://localhost:8080/"
        },
        "id": "zVKDB4tYda4q",
        "outputId": "4f57a431-d256-46d0-8792-5f2141aacd10"
      },
      "execution_count": null,
      "outputs": [
        {
          "output_type": "execute_result",
          "data": {
            "text/plain": [
              "(<torch.utils.data.dataloader.DataLoader at 0x79585733bc80>,\n",
              " <torch.utils.data.dataloader.DataLoader at 0x7958572b7890>,\n",
              " ['pizza', 'steak', 'sushi'])"
            ]
          },
          "metadata": {},
          "execution_count": 6
        }
      ]
    },
    {
      "cell_type": "code",
      "source": [
        "device = \"cuda\" if torch.cuda.is_available() else \"cpu\"\n",
        "\n",
        "weights = torchvision.models.EfficientNet_B0_Weights.DEFAULT\n",
        "model = torchvision.models.efficientnet_b0(weights=weights).to(device)\n"
      ],
      "metadata": {
        "id": "2-v03u-tp9I_"
      },
      "execution_count": null,
      "outputs": []
    },
    {
      "cell_type": "code",
      "source": [
        "auto_transforms = weights.transforms()\n",
        "auto_transforms"
      ],
      "metadata": {
        "colab": {
          "base_uri": "https://localhost:8080/"
        },
        "id": "-GXFniYbyK_1",
        "outputId": "21acd3a6-c2ac-4fa9-d266-efb69a5f9ebb"
      },
      "execution_count": null,
      "outputs": [
        {
          "output_type": "execute_result",
          "data": {
            "text/plain": [
              "ImageClassification(\n",
              "    crop_size=[224]\n",
              "    resize_size=[256]\n",
              "    mean=[0.485, 0.456, 0.406]\n",
              "    std=[0.229, 0.224, 0.225]\n",
              "    interpolation=InterpolationMode.BICUBIC\n",
              ")"
            ]
          },
          "metadata": {},
          "execution_count": 9
        }
      ]
    },
    {
      "cell_type": "code",
      "source": [],
      "metadata": {
        "id": "_s_NEP8op8l9"
      },
      "execution_count": null,
      "outputs": []
    },
    {
      "cell_type": "code",
      "source": [
        "train_dataloader , test_dataloader , class_names = data_setup.create_dataloaders(train_dir=train_dir,\n",
        "                                                                                test_dir = test_dir,\n",
        "                                                                                transform = auto_transforms,\n",
        "                                                                                batch_size = 32)"
      ],
      "metadata": {
        "id": "BSy0uReOyWAs"
      },
      "execution_count": null,
      "outputs": []
    },
    {
      "cell_type": "code",
      "source": [
        "train_dataloader , test_dataloader , class_names"
      ],
      "metadata": {
        "colab": {
          "base_uri": "https://localhost:8080/"
        },
        "id": "FqwetVYVywlj",
        "outputId": "9ab9b641-2a91-4861-c6fa-fa9962314a7f"
      },
      "execution_count": null,
      "outputs": [
        {
          "output_type": "execute_result",
          "data": {
            "text/plain": [
              "(<torch.utils.data.dataloader.DataLoader at 0x795861d50b00>,\n",
              " <torch.utils.data.dataloader.DataLoader at 0x795861d50c20>,\n",
              " ['pizza', 'steak', 'sushi'])"
            ]
          },
          "metadata": {},
          "execution_count": 11
        }
      ]
    },
    {
      "cell_type": "code",
      "source": [
        "model.classifier"
      ],
      "metadata": {
        "colab": {
          "base_uri": "https://localhost:8080/"
        },
        "id": "JbUW88znyzDg",
        "outputId": "ff836f26-eb53-4c79-dac3-adebb6de3421"
      },
      "execution_count": null,
      "outputs": [
        {
          "output_type": "execute_result",
          "data": {
            "text/plain": [
              "Sequential(\n",
              "  (0): Dropout(p=0.2, inplace=True)\n",
              "  (1): Linear(in_features=1280, out_features=1000, bias=True)\n",
              ")"
            ]
          },
          "metadata": {},
          "execution_count": 12
        }
      ]
    },
    {
      "cell_type": "code",
      "source": [
        "# torchinfo\n",
        "from torchinfo import summary\n",
        "\n",
        "summary(model= model,\n",
        "      input_size=(1,3,224,224),\n",
        "      col_names=[\"input_size\" , \"output_size\", \"num_params\",\"trainable\"],\n",
        "      col_width=23,\n",
        "     row_settings=[\"var_names\"])"
      ],
      "metadata": {
        "colab": {
          "base_uri": "https://localhost:8080/"
        },
        "id": "Mec4X-m5ptOV",
        "outputId": "b59cecb8-cd30-46f2-e649-730587895f65"
      },
      "execution_count": null,
      "outputs": [
        {
          "output_type": "execute_result",
          "data": {
            "text/plain": [
              "========================================================================================================================================================\n",
              "Layer (type (var_name))                                      Input Shape             Output Shape            Param #                 Trainable\n",
              "========================================================================================================================================================\n",
              "EfficientNet (EfficientNet)                                  [1, 3, 224, 224]        [1, 3]                  --                      Partial\n",
              "├─Sequential (features)                                      [1, 3, 224, 224]        [1, 1280, 7, 7]         --                      False\n",
              "│    └─Conv2dNormActivation (0)                              [1, 3, 224, 224]        [1, 32, 112, 112]       --                      False\n",
              "│    │    └─Conv2d (0)                                       [1, 3, 224, 224]        [1, 32, 112, 112]       (864)                   False\n",
              "│    │    └─BatchNorm2d (1)                                  [1, 32, 112, 112]       [1, 32, 112, 112]       (64)                    False\n",
              "│    │    └─SiLU (2)                                         [1, 32, 112, 112]       [1, 32, 112, 112]       --                      --\n",
              "│    └─Sequential (1)                                        [1, 32, 112, 112]       [1, 16, 112, 112]       --                      False\n",
              "│    │    └─MBConv (0)                                       [1, 32, 112, 112]       [1, 16, 112, 112]       (1,448)                 False\n",
              "│    └─Sequential (2)                                        [1, 16, 112, 112]       [1, 24, 56, 56]         --                      False\n",
              "│    │    └─MBConv (0)                                       [1, 16, 112, 112]       [1, 24, 56, 56]         (6,004)                 False\n",
              "│    │    └─MBConv (1)                                       [1, 24, 56, 56]         [1, 24, 56, 56]         (10,710)                False\n",
              "│    └─Sequential (3)                                        [1, 24, 56, 56]         [1, 40, 28, 28]         --                      False\n",
              "│    │    └─MBConv (0)                                       [1, 24, 56, 56]         [1, 40, 28, 28]         (15,350)                False\n",
              "│    │    └─MBConv (1)                                       [1, 40, 28, 28]         [1, 40, 28, 28]         (31,290)                False\n",
              "│    └─Sequential (4)                                        [1, 40, 28, 28]         [1, 80, 14, 14]         --                      False\n",
              "│    │    └─MBConv (0)                                       [1, 40, 28, 28]         [1, 80, 14, 14]         (37,130)                False\n",
              "│    │    └─MBConv (1)                                       [1, 80, 14, 14]         [1, 80, 14, 14]         (102,900)               False\n",
              "│    │    └─MBConv (2)                                       [1, 80, 14, 14]         [1, 80, 14, 14]         (102,900)               False\n",
              "│    └─Sequential (5)                                        [1, 80, 14, 14]         [1, 112, 14, 14]        --                      False\n",
              "│    │    └─MBConv (0)                                       [1, 80, 14, 14]         [1, 112, 14, 14]        (126,004)               False\n",
              "│    │    └─MBConv (1)                                       [1, 112, 14, 14]        [1, 112, 14, 14]        (208,572)               False\n",
              "│    │    └─MBConv (2)                                       [1, 112, 14, 14]        [1, 112, 14, 14]        (208,572)               False\n",
              "│    └─Sequential (6)                                        [1, 112, 14, 14]        [1, 192, 7, 7]          --                      False\n",
              "│    │    └─MBConv (0)                                       [1, 112, 14, 14]        [1, 192, 7, 7]          (262,492)               False\n",
              "│    │    └─MBConv (1)                                       [1, 192, 7, 7]          [1, 192, 7, 7]          (587,952)               False\n",
              "│    │    └─MBConv (2)                                       [1, 192, 7, 7]          [1, 192, 7, 7]          (587,952)               False\n",
              "│    │    └─MBConv (3)                                       [1, 192, 7, 7]          [1, 192, 7, 7]          (587,952)               False\n",
              "│    └─Sequential (7)                                        [1, 192, 7, 7]          [1, 320, 7, 7]          --                      False\n",
              "│    │    └─MBConv (0)                                       [1, 192, 7, 7]          [1, 320, 7, 7]          (717,232)               False\n",
              "│    └─Conv2dNormActivation (8)                              [1, 320, 7, 7]          [1, 1280, 7, 7]         --                      False\n",
              "│    │    └─Conv2d (0)                                       [1, 320, 7, 7]          [1, 1280, 7, 7]         (409,600)               False\n",
              "│    │    └─BatchNorm2d (1)                                  [1, 1280, 7, 7]         [1, 1280, 7, 7]         (2,560)                 False\n",
              "│    │    └─SiLU (2)                                         [1, 1280, 7, 7]         [1, 1280, 7, 7]         --                      --\n",
              "├─AdaptiveAvgPool2d (avgpool)                                [1, 1280, 7, 7]         [1, 1280, 1, 1]         --                      --\n",
              "├─Sequential (classifier)                                    [1, 1280]               [1, 3]                  --                      True\n",
              "│    └─Dropout (0)                                           [1, 1280]               [1, 1280]               --                      --\n",
              "│    └─Linear (1)                                            [1, 1280]               [1, 3]                  3,843                   True\n",
              "========================================================================================================================================================\n",
              "Total params: 4,011,391\n",
              "Trainable params: 3,843\n",
              "Non-trainable params: 4,007,548\n",
              "Total mult-adds (Units.MEGABYTES): 384.59\n",
              "========================================================================================================================================================\n",
              "Input size (MB): 0.60\n",
              "Forward/backward pass size (MB): 107.88\n",
              "Params size (MB): 16.05\n",
              "Estimated Total Size (MB): 124.53\n",
              "========================================================================================================================================================"
            ]
          },
          "metadata": {},
          "execution_count": 26
        }
      ]
    },
    {
      "cell_type": "code",
      "source": [
        "model.classifier"
      ],
      "metadata": {
        "colab": {
          "base_uri": "https://localhost:8080/"
        },
        "id": "12hn1NbpXHo5",
        "outputId": "2a9e844b-5261-480a-e260-2899593b974c"
      },
      "execution_count": null,
      "outputs": [
        {
          "output_type": "execute_result",
          "data": {
            "text/plain": [
              "Sequential(\n",
              "  (0): Dropout(p=0.2, inplace=True)\n",
              "  (1): Linear(in_features=1280, out_features=1000, bias=True)\n",
              ")"
            ]
          },
          "metadata": {},
          "execution_count": 14
        }
      ]
    },
    {
      "cell_type": "code",
      "source": [
        "len(class_names)"
      ],
      "metadata": {
        "colab": {
          "base_uri": "https://localhost:8080/"
        },
        "id": "foDbHKHHemQi",
        "outputId": "7be5d466-22b8-4d1c-fd97-2f63b04dfee4"
      },
      "execution_count": null,
      "outputs": [
        {
          "output_type": "execute_result",
          "data": {
            "text/plain": [
              "3"
            ]
          },
          "metadata": {},
          "execution_count": 15
        }
      ]
    },
    {
      "cell_type": "code",
      "source": [
        " # Frezing the base model\n",
        "for param in model.features.parameters():\n",
        "  param.requires_grad = False\n",
        "\n",
        "#updating the classifier\n",
        "from torch import nn\n",
        "torch.manual_seed(42)\n",
        "torch.cuda.manual_seed(42)\n",
        "model.classifier = nn.Sequential(\n",
        "    nn.Dropout(p=0.2, inplace=True),\n",
        "    nn.Linear(in_features= 1280 , #features vector coming in\n",
        "              out_features=len(class_names)).to(device)\n",
        "\n",
        ")\n",
        "model.classifier"
      ],
      "metadata": {
        "colab": {
          "base_uri": "https://localhost:8080/"
        },
        "id": "K2LuLv2UTmLj",
        "outputId": "47c8019a-68f1-4d41-da2e-0e185a743ae1"
      },
      "execution_count": null,
      "outputs": [
        {
          "output_type": "execute_result",
          "data": {
            "text/plain": [
              "Sequential(\n",
              "  (0): Dropout(p=0.2, inplace=True)\n",
              "  (1): Linear(in_features=1280, out_features=3, bias=True)\n",
              ")"
            ]
          },
          "metadata": {},
          "execution_count": 27
        }
      ]
    },
    {
      "cell_type": "code",
      "source": [],
      "metadata": {
        "id": "Vf52_BuyYsTF"
      },
      "execution_count": null,
      "outputs": []
    },
    {
      "cell_type": "code",
      "source": [
        "summary= summary(model=model,\n",
        "                 input_size=(1,3,224,224),\n",
        "                  col_names=[\"input_size\" , \"output_size\" ,\"num_params\" , \"trainable\"],\n",
        "                  col_width =20,\n",
        "                  row_settings = [\"var_names\"])"
      ],
      "metadata": {
        "id": "MPL33j9mYtam"
      },
      "execution_count": null,
      "outputs": []
    },
    {
      "cell_type": "code",
      "source": [
        "summary"
      ],
      "metadata": {
        "colab": {
          "base_uri": "https://localhost:8080/"
        },
        "id": "QLIQjYRghYEn",
        "outputId": "5464285c-98c6-4649-abda-21aa8dc4d877"
      },
      "execution_count": null,
      "outputs": [
        {
          "output_type": "execute_result",
          "data": {
            "text/plain": [
              "============================================================================================================================================\n",
              "Layer (type (var_name))                                      Input Shape          Output Shape         Param #              Trainable\n",
              "============================================================================================================================================\n",
              "EfficientNet (EfficientNet)                                  [1, 3, 224, 224]     [1, 3]               --                   Partial\n",
              "├─Sequential (features)                                      [1, 3, 224, 224]     [1, 1280, 7, 7]      --                   False\n",
              "│    └─Conv2dNormActivation (0)                              [1, 3, 224, 224]     [1, 32, 112, 112]    --                   False\n",
              "│    │    └─Conv2d (0)                                       [1, 3, 224, 224]     [1, 32, 112, 112]    (864)                False\n",
              "│    │    └─BatchNorm2d (1)                                  [1, 32, 112, 112]    [1, 32, 112, 112]    (64)                 False\n",
              "│    │    └─SiLU (2)                                         [1, 32, 112, 112]    [1, 32, 112, 112]    --                   --\n",
              "│    └─Sequential (1)                                        [1, 32, 112, 112]    [1, 16, 112, 112]    --                   False\n",
              "│    │    └─MBConv (0)                                       [1, 32, 112, 112]    [1, 16, 112, 112]    (1,448)              False\n",
              "│    └─Sequential (2)                                        [1, 16, 112, 112]    [1, 24, 56, 56]      --                   False\n",
              "│    │    └─MBConv (0)                                       [1, 16, 112, 112]    [1, 24, 56, 56]      (6,004)              False\n",
              "│    │    └─MBConv (1)                                       [1, 24, 56, 56]      [1, 24, 56, 56]      (10,710)             False\n",
              "│    └─Sequential (3)                                        [1, 24, 56, 56]      [1, 40, 28, 28]      --                   False\n",
              "│    │    └─MBConv (0)                                       [1, 24, 56, 56]      [1, 40, 28, 28]      (15,350)             False\n",
              "│    │    └─MBConv (1)                                       [1, 40, 28, 28]      [1, 40, 28, 28]      (31,290)             False\n",
              "│    └─Sequential (4)                                        [1, 40, 28, 28]      [1, 80, 14, 14]      --                   False\n",
              "│    │    └─MBConv (0)                                       [1, 40, 28, 28]      [1, 80, 14, 14]      (37,130)             False\n",
              "│    │    └─MBConv (1)                                       [1, 80, 14, 14]      [1, 80, 14, 14]      (102,900)            False\n",
              "│    │    └─MBConv (2)                                       [1, 80, 14, 14]      [1, 80, 14, 14]      (102,900)            False\n",
              "│    └─Sequential (5)                                        [1, 80, 14, 14]      [1, 112, 14, 14]     --                   False\n",
              "│    │    └─MBConv (0)                                       [1, 80, 14, 14]      [1, 112, 14, 14]     (126,004)            False\n",
              "│    │    └─MBConv (1)                                       [1, 112, 14, 14]     [1, 112, 14, 14]     (208,572)            False\n",
              "│    │    └─MBConv (2)                                       [1, 112, 14, 14]     [1, 112, 14, 14]     (208,572)            False\n",
              "│    └─Sequential (6)                                        [1, 112, 14, 14]     [1, 192, 7, 7]       --                   False\n",
              "│    │    └─MBConv (0)                                       [1, 112, 14, 14]     [1, 192, 7, 7]       (262,492)            False\n",
              "│    │    └─MBConv (1)                                       [1, 192, 7, 7]       [1, 192, 7, 7]       (587,952)            False\n",
              "│    │    └─MBConv (2)                                       [1, 192, 7, 7]       [1, 192, 7, 7]       (587,952)            False\n",
              "│    │    └─MBConv (3)                                       [1, 192, 7, 7]       [1, 192, 7, 7]       (587,952)            False\n",
              "│    └─Sequential (7)                                        [1, 192, 7, 7]       [1, 320, 7, 7]       --                   False\n",
              "│    │    └─MBConv (0)                                       [1, 192, 7, 7]       [1, 320, 7, 7]       (717,232)            False\n",
              "│    └─Conv2dNormActivation (8)                              [1, 320, 7, 7]       [1, 1280, 7, 7]      --                   False\n",
              "│    │    └─Conv2d (0)                                       [1, 320, 7, 7]       [1, 1280, 7, 7]      (409,600)            False\n",
              "│    │    └─BatchNorm2d (1)                                  [1, 1280, 7, 7]      [1, 1280, 7, 7]      (2,560)              False\n",
              "│    │    └─SiLU (2)                                         [1, 1280, 7, 7]      [1, 1280, 7, 7]      --                   --\n",
              "├─AdaptiveAvgPool2d (avgpool)                                [1, 1280, 7, 7]      [1, 1280, 1, 1]      --                   --\n",
              "├─Sequential (classifier)                                    [1, 1280]            [1, 3]               --                   True\n",
              "│    └─Dropout (0)                                           [1, 1280]            [1, 1280]            --                   --\n",
              "│    └─Linear (1)                                            [1, 1280]            [1, 3]               3,843                True\n",
              "============================================================================================================================================\n",
              "Total params: 4,011,391\n",
              "Trainable params: 3,843\n",
              "Non-trainable params: 4,007,548\n",
              "Total mult-adds (Units.MEGABYTES): 384.59\n",
              "============================================================================================================================================\n",
              "Input size (MB): 0.60\n",
              "Forward/backward pass size (MB): 107.88\n",
              "Params size (MB): 16.05\n",
              "Estimated Total Size (MB): 124.53\n",
              "============================================================================================================================================"
            ]
          },
          "metadata": {},
          "execution_count": 29
        }
      ]
    },
    {
      "cell_type": "code",
      "source": [],
      "metadata": {
        "id": "JE5xyvO1hacw"
      },
      "execution_count": null,
      "outputs": []
    }
  ]
}